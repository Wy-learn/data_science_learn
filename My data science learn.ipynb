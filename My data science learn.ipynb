{
 "cells": [
  {
   "cell_type": "markdown",
   "id": "b061d7a2-30c3-477d-af33-7a6daf3a8d85",
   "metadata": {},
   "source": [
    "# Data Science Tools and Ecosystem"
   ]
  },
  {
   "cell_type": "markdown",
   "id": "f26dc1ea-7976-4d80-9082-f40933289362",
   "metadata": {},
   "source": [
    "In this notebook, Data Science Tools and Ecosystem are summarized."
   ]
  },
  {
   "cell_type": "markdown",
   "id": "473c866d-ac43-4029-a718-f44ccb445f8d",
   "metadata": {},
   "source": [
    "***Objectives:***\n",
    "- Python\n",
    "- R\n",
    "- SQL\n",
    "- Julia\n",
    "- Java\n",
    "- Scala\n",
    "- MATLAB"
   ]
  },
  {
   "cell_type": "markdown",
   "id": "32f7e995-e41e-4865-ba7a-1f9a536ec4c1",
   "metadata": {},
   "source": [
    "###### Some of the popular languages that Data Scientists use are:\n",
    "1.Python\n",
    "2.R\n",
    "3.SQL"
   ]
  },
  {
   "cell_type": "markdown",
   "id": "7c4d72a9-eb88-4f21-a6aa-0f65e971261e",
   "metadata": {},
   "source": [
    "\"Some of the commonly used libraries used by Data Scientists include:\"\n",
    "1. pandas\n",
    "2. Numpy\n",
    "3. SciPy\n",
    "4. Scikit-learn\n",
    "5. Matplotlib"
   ]
  },
  {
   "cell_type": "markdown",
   "id": "0f56f4a3-3a30-469b-a065-7f2bf7d88d94",
   "metadata": {},
   "source": [
    "| Data Science Tools |\n",
    "|-------------------- |\n",
    "| Jupyter |\n",
    "| RStudio |\n",
    "| Visual Studio Code |"
   ]
  },
  {
   "cell_type": "markdown",
   "id": "f6ae48cd-c24b-4713-bc3b-286b4248b567",
   "metadata": {},
   "source": [
    "### Below are a few examples of evaluating arithmetic expressions in Python"
   ]
  },
  {
   "cell_type": "code",
   "execution_count": 44,
   "id": "44ccb7a6-b92b-46d5-899d-192260e0ff8a",
   "metadata": {},
   "outputs": [
    {
     "data": {
      "text/plain": [
       "17"
      ]
     },
     "execution_count": 44,
     "metadata": {},
     "output_type": "execute_result"
    }
   ],
   "source": [
    "\"This a simple arithmetic expression to mutiply then add integers\"\n",
    "(3*4)+5"
   ]
  },
  {
   "cell_type": "code",
   "execution_count": 46,
   "id": "b6183103-22ca-4baf-85c2-4e36270bfa39",
   "metadata": {},
   "outputs": [
    {
     "data": {
      "text/plain": [
       "3.3333333333333335"
      ]
     },
     "execution_count": 46,
     "metadata": {},
     "output_type": "execute_result"
    }
   ],
   "source": [
    "\"This will convert 200 minutes to hours by diving by 60\"\n",
    "200/60"
   ]
  },
  {
   "cell_type": "markdown",
   "id": "112c1fa4-7e6c-47bc-b419-e4c049d2abd9",
   "metadata": {},
   "source": [
    "## Author : Yi Wen"
   ]
  },
  {
   "cell_type": "code",
   "execution_count": null,
   "id": "4e998682-63a2-46cc-aab2-4461bc39b949",
   "metadata": {},
   "outputs": [],
   "source": []
  }
 ],
 "metadata": {
  "kernelspec": {
   "display_name": "Python 3 (ipykernel)",
   "language": "python",
   "name": "python3"
  },
  "language_info": {
   "codemirror_mode": {
    "name": "ipython",
    "version": 3
   },
   "file_extension": ".py",
   "mimetype": "text/x-python",
   "name": "python",
   "nbconvert_exporter": "python",
   "pygments_lexer": "ipython3",
   "version": "3.12.4"
  }
 },
 "nbformat": 4,
 "nbformat_minor": 5
}
